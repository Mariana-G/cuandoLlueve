{
 "cells": [
  {
   "cell_type": "markdown",
   "metadata": {},
   "source": [
    "## Introducción al aprendizaje supervisado"
   ]
  },
  {
   "cell_type": "markdown",
   "metadata": {},
   "source": [
    "### Actividades:"
   ]
  },
  {
   "cell_type": "markdown",
   "metadata": {},
   "source": [
    "#### Dataset rain_teodelina"
   ]
  },
  {
   "cell_type": "markdown",
   "metadata": {},
   "source": [
    "1) agregar features que aporten valor al dataset  \n",
    "\n",
    "2) Analizar features data / target \n",
    "\n",
    "3) dividir dataset (training, validation, test)    \n",
    "\n",
    "4) analizar y elegir el modelo mas apropiado, entrenarlo y analizar resultados  \n",
    "\n",
    "5) combinar clasificadores y analizar resultados  \n",
    "\n",
    "6) evaluar predicciones de los diferentes modelos  "
   ]
  },
  {
   "cell_type": "markdown",
   "metadata": {},
   "source": [
    "#### Dataset: rain_junin"
   ]
  },
  {
   "cell_type": "markdown",
   "metadata": {},
   "source": [
    "1) Aplicar tecnicas de selección y extraccion de features  \n",
    "\n",
    "2) Analizar features data / target \n",
    "\n",
    "3) dividir dataset (training, validation, test)  \n",
    "\n",
    "4) analizar y elegir el modelo mas apropiado, entrenarlo y analizar resultados\n",
    "\n",
    "5) combinar clasificadores y analizar resultados  \n",
    "\n",
    "6) evaluar predicciones de los diferentes modelos  "
   ]
  },
  {
   "cell_type": "markdown",
   "metadata": {},
   "source": [
    "#### Combinacion de datasets"
   ]
  },
  {
   "cell_type": "markdown",
   "metadata": {},
   "source": [
    "1) Combinar ambos datasets a partir de features comunes a ambos\n",
    "\n",
    "2) Validar la correcctitud de los datos fusionados\n",
    "\n",
    "3) Aplicar tecnicas de selección y extraccion de features  \n",
    "\n",
    "4) Analizar features data / target \n",
    "\n",
    "5) dividir dataset (training, validation, test)  \n",
    "\n",
    "6) analizar y elegir el modelo mas apropiado, entrenarlo y analizar resultados\n"
   ]
  },
  {
   "cell_type": "markdown",
   "metadata": {},
   "source": [
    "---------------"
   ]
  },
  {
   "cell_type": "code",
   "execution_count": 1,
   "metadata": {},
   "outputs": [],
   "source": [
    "import pandas as pd"
   ]
  },
  {
   "cell_type": "code",
   "execution_count": 2,
   "metadata": {},
   "outputs": [
    {
     "data": {
      "text/html": [
       "<div>\n",
       "<style scoped>\n",
       "    .dataframe tbody tr th:only-of-type {\n",
       "        vertical-align: middle;\n",
       "    }\n",
       "\n",
       "    .dataframe tbody tr th {\n",
       "        vertical-align: top;\n",
       "    }\n",
       "\n",
       "    .dataframe thead th {\n",
       "        text-align: right;\n",
       "    }\n",
       "</style>\n",
       "<table border=\"1\" class=\"dataframe\">\n",
       "  <thead>\n",
       "    <tr style=\"text-align: right;\">\n",
       "      <th></th>\n",
       "      <th>date</th>\n",
       "      <th>rain</th>\n",
       "    </tr>\n",
       "  </thead>\n",
       "  <tbody>\n",
       "    <tr>\n",
       "      <th>0</th>\n",
       "      <td>1978-1-1</td>\n",
       "      <td>0</td>\n",
       "    </tr>\n",
       "    <tr>\n",
       "      <th>1</th>\n",
       "      <td>1978-1-2</td>\n",
       "      <td>0</td>\n",
       "    </tr>\n",
       "    <tr>\n",
       "      <th>2</th>\n",
       "      <td>1978-1-3</td>\n",
       "      <td>0</td>\n",
       "    </tr>\n",
       "    <tr>\n",
       "      <th>3</th>\n",
       "      <td>1978-1-4</td>\n",
       "      <td>0</td>\n",
       "    </tr>\n",
       "    <tr>\n",
       "      <th>4</th>\n",
       "      <td>1978-1-5</td>\n",
       "      <td>0</td>\n",
       "    </tr>\n",
       "  </tbody>\n",
       "</table>\n",
       "</div>"
      ],
      "text/plain": [
       "       date  rain\n",
       "0  1978-1-1     0\n",
       "1  1978-1-2     0\n",
       "2  1978-1-3     0\n",
       "3  1978-1-4     0\n",
       "4  1978-1-5     0"
      ]
     },
     "execution_count": 2,
     "metadata": {},
     "output_type": "execute_result"
    }
   ],
   "source": [
    "rain_teodelina = pd.read_csv(\"rain_teodelina.csv\")\n",
    "rain_teodelina.head()"
   ]
  },
  {
   "cell_type": "code",
   "execution_count": 3,
   "metadata": {},
   "outputs": [
    {
     "data": {
      "text/html": [
       "<div>\n",
       "<style scoped>\n",
       "    .dataframe tbody tr th:only-of-type {\n",
       "        vertical-align: middle;\n",
       "    }\n",
       "\n",
       "    .dataframe tbody tr th {\n",
       "        vertical-align: top;\n",
       "    }\n",
       "\n",
       "    .dataframe thead th {\n",
       "        text-align: right;\n",
       "    }\n",
       "</style>\n",
       "<table border=\"1\" class=\"dataframe\">\n",
       "  <thead>\n",
       "    <tr style=\"text-align: right;\">\n",
       "      <th></th>\n",
       "      <th>Fecha</th>\n",
       "      <th>Hr.Med(%)</th>\n",
       "      <th>Prec(mm)</th>\n",
       "      <th>Presion(mb).Est</th>\n",
       "      <th>Presion(mb).Mar</th>\n",
       "      <th>Temperatura(°C).Max</th>\n",
       "      <th>Temperatura(°C).Med</th>\n",
       "      <th>Temperatura(°C).Min</th>\n",
       "      <th>Viento(km/h).Max</th>\n",
       "      <th>Viento(km/h).Med</th>\n",
       "      <th>Vis(km)</th>\n",
       "    </tr>\n",
       "  </thead>\n",
       "  <tbody>\n",
       "    <tr>\n",
       "      <th>0</th>\n",
       "      <td>2016/01/01</td>\n",
       "      <td>71.8</td>\n",
       "      <td>7.9</td>\n",
       "      <td>1000.1</td>\n",
       "      <td>1009.5</td>\n",
       "      <td>31.4</td>\n",
       "      <td>24.0</td>\n",
       "      <td>18.4</td>\n",
       "      <td>27.8</td>\n",
       "      <td>16.7</td>\n",
       "      <td>12.4</td>\n",
       "    </tr>\n",
       "    <tr>\n",
       "      <th>1</th>\n",
       "      <td>2016/01/02</td>\n",
       "      <td>67.8</td>\n",
       "      <td>0.0</td>\n",
       "      <td>1002.0</td>\n",
       "      <td>1011.4</td>\n",
       "      <td>32.1</td>\n",
       "      <td>25.6</td>\n",
       "      <td>20.3</td>\n",
       "      <td>25.9</td>\n",
       "      <td>19.3</td>\n",
       "      <td>12.8</td>\n",
       "    </tr>\n",
       "    <tr>\n",
       "      <th>2</th>\n",
       "      <td>2016/01/03</td>\n",
       "      <td>79.1</td>\n",
       "      <td>0.0</td>\n",
       "      <td>1001.0</td>\n",
       "      <td>1010.4</td>\n",
       "      <td>31.6</td>\n",
       "      <td>23.7</td>\n",
       "      <td>20.0</td>\n",
       "      <td>37.0</td>\n",
       "      <td>21.7</td>\n",
       "      <td>12.6</td>\n",
       "    </tr>\n",
       "    <tr>\n",
       "      <th>3</th>\n",
       "      <td>2016/01/04</td>\n",
       "      <td>91.5</td>\n",
       "      <td>0.0</td>\n",
       "      <td>999.6</td>\n",
       "      <td>1009.0</td>\n",
       "      <td>26.9</td>\n",
       "      <td>22.2</td>\n",
       "      <td>20.8</td>\n",
       "      <td>18.3</td>\n",
       "      <td>10.7</td>\n",
       "      <td>10.4</td>\n",
       "    </tr>\n",
       "    <tr>\n",
       "      <th>4</th>\n",
       "      <td>2016/01/05</td>\n",
       "      <td>79.6</td>\n",
       "      <td>9.9</td>\n",
       "      <td>1002.6</td>\n",
       "      <td>1012.0</td>\n",
       "      <td>28.4</td>\n",
       "      <td>23.6</td>\n",
       "      <td>19.8</td>\n",
       "      <td>24.1</td>\n",
       "      <td>14.4</td>\n",
       "      <td>11.3</td>\n",
       "    </tr>\n",
       "  </tbody>\n",
       "</table>\n",
       "</div>"
      ],
      "text/plain": [
       "        Fecha  Hr.Med(%)  Prec(mm)  Presion(mb).Est  Presion(mb).Mar  \\\n",
       "0  2016/01/01       71.8       7.9           1000.1           1009.5   \n",
       "1  2016/01/02       67.8       0.0           1002.0           1011.4   \n",
       "2  2016/01/03       79.1       0.0           1001.0           1010.4   \n",
       "3  2016/01/04       91.5       0.0            999.6           1009.0   \n",
       "4  2016/01/05       79.6       9.9           1002.6           1012.0   \n",
       "\n",
       "   Temperatura(°C).Max  Temperatura(°C).Med  Temperatura(°C).Min  \\\n",
       "0                 31.4                 24.0                 18.4   \n",
       "1                 32.1                 25.6                 20.3   \n",
       "2                 31.6                 23.7                 20.0   \n",
       "3                 26.9                 22.2                 20.8   \n",
       "4                 28.4                 23.6                 19.8   \n",
       "\n",
       "   Viento(km/h).Max  Viento(km/h).Med  Vis(km)  \n",
       "0              27.8              16.7     12.4  \n",
       "1              25.9              19.3     12.8  \n",
       "2              37.0              21.7     12.6  \n",
       "3              18.3              10.7     10.4  \n",
       "4              24.1              14.4     11.3  "
      ]
     },
     "execution_count": 3,
     "metadata": {},
     "output_type": "execute_result"
    }
   ],
   "source": [
    "rain_junin = pd.read_csv(\"rain_junin.csv\")\n",
    "rain_junin.head()"
   ]
  }
 ],
 "metadata": {
  "kernelspec": {
   "display_name": "Python 3",
   "language": "python",
   "name": "python3"
  },
  "language_info": {
   "codemirror_mode": {
    "name": "ipython",
    "version": 3
   },
   "file_extension": ".py",
   "mimetype": "text/x-python",
   "name": "python",
   "nbconvert_exporter": "python",
   "pygments_lexer": "ipython3",
   "version": "3.7.2"
  }
 },
 "nbformat": 4,
 "nbformat_minor": 2
}
